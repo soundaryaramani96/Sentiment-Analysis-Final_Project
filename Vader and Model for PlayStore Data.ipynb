{
 "cells": [
  {
   "cell_type": "code",
   "execution_count": 1,
   "metadata": {},
   "outputs": [
    {
     "name": "stderr",
     "output_type": "stream",
     "text": [
      "Using TensorFlow backend.\n"
     ]
    }
   ],
   "source": [
    "import pandas as pd\n",
    "import numpy as np\n",
    "from vaderSentiment.vaderSentiment import SentimentIntensityAnalyzer\n",
    "from sklearn.model_selection import train_test_split\n",
    "from sklearn import model_selection, preprocessing, linear_model, naive_bayes, metrics, svm\n",
    "from sklearn.feature_extraction.text import TfidfVectorizer, CountVectorizer\n",
    "from sklearn import decomposition, ensemble\n",
    "from nltk.tokenize import word_tokenize\n",
    "from nltk import pos_tag\n",
    "from nltk.corpus import stopwords\n",
    "from nltk.stem import WordNetLemmatizer\n",
    "from sklearn.preprocessing import LabelEncoder\n",
    "from collections import defaultdict\n",
    "from nltk.corpus import wordnet as wn\n",
    "from sklearn.ensemble import RandomForestClassifier\n",
    "import xgboost, textblob, string\n",
    "from keras.preprocessing import text, sequence\n",
    "from keras import layers, models, optimizers"
   ]
  },
  {
   "cell_type": "code",
   "execution_count": 2,
   "metadata": {},
   "outputs": [],
   "source": [
    "dataset = pd.read_csv(\"playstore_data.csv\",header=0,encoding='utf-8')\n",
    "df = dataset.copy()"
   ]
  },
  {
   "cell_type": "code",
   "execution_count": 3,
   "metadata": {},
   "outputs": [
    {
     "data": {
      "text/html": [
       "<div>\n",
       "<style scoped>\n",
       "    .dataframe tbody tr th:only-of-type {\n",
       "        vertical-align: middle;\n",
       "    }\n",
       "\n",
       "    .dataframe tbody tr th {\n",
       "        vertical-align: top;\n",
       "    }\n",
       "\n",
       "    .dataframe thead th {\n",
       "        text-align: right;\n",
       "    }\n",
       "</style>\n",
       "<table border=\"1\" class=\"dataframe\">\n",
       "  <thead>\n",
       "    <tr style=\"text-align: right;\">\n",
       "      <th></th>\n",
       "      <th>ID</th>\n",
       "      <th>Application</th>\n",
       "      <th>Users</th>\n",
       "      <th>Stars</th>\n",
       "      <th>Approval</th>\n",
       "      <th>Review</th>\n",
       "    </tr>\n",
       "  </thead>\n",
       "  <tbody>\n",
       "    <tr>\n",
       "      <th>0</th>\n",
       "      <td>1</td>\n",
       "      <td>Spotify</td>\n",
       "      <td>RealTRG</td>\n",
       "      <td>5</td>\n",
       "      <td>2</td>\n",
       "      <td>Ich finde Spotify sehr gut. Die Lieder haben e...</td>\n",
       "    </tr>\n",
       "    <tr>\n",
       "      <th>1</th>\n",
       "      <td>2</td>\n",
       "      <td>Spotify</td>\n",
       "      <td>Lokan</td>\n",
       "      <td>1</td>\n",
       "      <td>7</td>\n",
       "      <td>Fix the adaptive icon please ðŸ˜­</td>\n",
       "    </tr>\n",
       "    <tr>\n",
       "      <th>2</th>\n",
       "      <td>3</td>\n",
       "      <td>Spotify</td>\n",
       "      <td>Abhilash Ulahannan</td>\n",
       "      <td>2</td>\n",
       "      <td>1</td>\n",
       "      <td>missing a lot of songs i like, not really a fa...</td>\n",
       "    </tr>\n",
       "    <tr>\n",
       "      <th>3</th>\n",
       "      <td>4</td>\n",
       "      <td>Spotify</td>\n",
       "      <td>Michele LaBlanc</td>\n",
       "      <td>4</td>\n",
       "      <td>12</td>\n",
       "      <td>Overall great app. Love that I can have multip...</td>\n",
       "    </tr>\n",
       "    <tr>\n",
       "      <th>4</th>\n",
       "      <td>5</td>\n",
       "      <td>Spotify</td>\n",
       "      <td>Makara Bedell</td>\n",
       "      <td>5</td>\n",
       "      <td>7</td>\n",
       "      <td>it's good and all, but ur recent update is tra...</td>\n",
       "    </tr>\n",
       "  </tbody>\n",
       "</table>\n",
       "</div>"
      ],
      "text/plain": [
       "   ID Application               Users  Stars  Approval  \\\n",
       "0   1     Spotify             RealTRG      5         2   \n",
       "1   2     Spotify               Lokan      1         7   \n",
       "2   3     Spotify  Abhilash Ulahannan      2         1   \n",
       "3   4     Spotify     Michele LaBlanc      4        12   \n",
       "4   5     Spotify       Makara Bedell      5         7   \n",
       "\n",
       "                                              Review  \n",
       "0  Ich finde Spotify sehr gut. Die Lieder haben e...  \n",
       "1                  Fix the adaptive icon please ðŸ˜­  \n",
       "2  missing a lot of songs i like, not really a fa...  \n",
       "3  Overall great app. Love that I can have multip...  \n",
       "4  it's good and all, but ur recent update is tra...  "
      ]
     },
     "execution_count": 3,
     "metadata": {},
     "output_type": "execute_result"
    }
   ],
   "source": [
    "df.head()"
   ]
  },
  {
   "cell_type": "markdown",
   "metadata": {},
   "source": [
    "# Implementing Vader"
   ]
  },
  {
   "cell_type": "code",
   "execution_count": 4,
   "metadata": {},
   "outputs": [],
   "source": [
    "# Initializing the Vader Sentiment Analyzer Method\n",
    "\n",
    "analyser = SentimentIntensityAnalyzer()"
   ]
  },
  {
   "cell_type": "code",
   "execution_count": 5,
   "metadata": {},
   "outputs": [],
   "source": [
    "# Calculating Sentiment Scores for our Tweets and Appending them to a list\n",
    "\n",
    "scores = []\n",
    "for items in df['Review']:\n",
    "    score = analyser.polarity_scores(items)\n",
    "    scores.append(score)"
   ]
  },
  {
   "cell_type": "code",
   "execution_count": 6,
   "metadata": {},
   "outputs": [],
   "source": [
    "# Based on the Scores List which is a list of dictionaries, evaluating the final sentiment based on compound score\n",
    "\n",
    "final = []\n",
    "for items in scores:\n",
    "    if items['compound'] >= 0.05:\n",
    "        final.append(\"Positive\")\n",
    "    elif items['compound'] <= -0.05:\n",
    "        final.append(\"Negative\")\n",
    "    else:\n",
    "        final.append(\"Neutral\")"
   ]
  },
  {
   "cell_type": "code",
   "execution_count": 7,
   "metadata": {},
   "outputs": [],
   "source": [
    "# Appending the Final Sentiment to our Initial Dataset\n",
    "\n",
    "final = pd.DataFrame(final,columns = ['Vader Sentiment'])\n",
    "df['Vader Sentiment'] = final"
   ]
  },
  {
   "cell_type": "code",
   "execution_count": 8,
   "metadata": {},
   "outputs": [
    {
     "data": {
      "text/html": [
       "<div>\n",
       "<style scoped>\n",
       "    .dataframe tbody tr th:only-of-type {\n",
       "        vertical-align: middle;\n",
       "    }\n",
       "\n",
       "    .dataframe tbody tr th {\n",
       "        vertical-align: top;\n",
       "    }\n",
       "\n",
       "    .dataframe thead th {\n",
       "        text-align: right;\n",
       "    }\n",
       "</style>\n",
       "<table border=\"1\" class=\"dataframe\">\n",
       "  <thead>\n",
       "    <tr style=\"text-align: right;\">\n",
       "      <th></th>\n",
       "      <th>ID</th>\n",
       "      <th>Application</th>\n",
       "      <th>Users</th>\n",
       "      <th>Stars</th>\n",
       "      <th>Approval</th>\n",
       "      <th>Review</th>\n",
       "      <th>Vader Sentiment</th>\n",
       "    </tr>\n",
       "  </thead>\n",
       "  <tbody>\n",
       "    <tr>\n",
       "      <th>0</th>\n",
       "      <td>1</td>\n",
       "      <td>Spotify</td>\n",
       "      <td>RealTRG</td>\n",
       "      <td>5</td>\n",
       "      <td>2</td>\n",
       "      <td>Ich finde Spotify sehr gut. Die Lieder haben e...</td>\n",
       "      <td>Negative</td>\n",
       "    </tr>\n",
       "    <tr>\n",
       "      <th>1</th>\n",
       "      <td>2</td>\n",
       "      <td>Spotify</td>\n",
       "      <td>Lokan</td>\n",
       "      <td>1</td>\n",
       "      <td>7</td>\n",
       "      <td>Fix the adaptive icon please ðŸ˜­</td>\n",
       "      <td>Positive</td>\n",
       "    </tr>\n",
       "    <tr>\n",
       "      <th>2</th>\n",
       "      <td>3</td>\n",
       "      <td>Spotify</td>\n",
       "      <td>Abhilash Ulahannan</td>\n",
       "      <td>2</td>\n",
       "      <td>1</td>\n",
       "      <td>missing a lot of songs i like, not really a fa...</td>\n",
       "      <td>Positive</td>\n",
       "    </tr>\n",
       "    <tr>\n",
       "      <th>3</th>\n",
       "      <td>4</td>\n",
       "      <td>Spotify</td>\n",
       "      <td>Michele LaBlanc</td>\n",
       "      <td>4</td>\n",
       "      <td>12</td>\n",
       "      <td>Overall great app. Love that I can have multip...</td>\n",
       "      <td>Positive</td>\n",
       "    </tr>\n",
       "    <tr>\n",
       "      <th>4</th>\n",
       "      <td>5</td>\n",
       "      <td>Spotify</td>\n",
       "      <td>Makara Bedell</td>\n",
       "      <td>5</td>\n",
       "      <td>7</td>\n",
       "      <td>it's good and all, but ur recent update is tra...</td>\n",
       "      <td>Positive</td>\n",
       "    </tr>\n",
       "  </tbody>\n",
       "</table>\n",
       "</div>"
      ],
      "text/plain": [
       "   ID Application               Users  Stars  Approval  \\\n",
       "0   1     Spotify             RealTRG      5         2   \n",
       "1   2     Spotify               Lokan      1         7   \n",
       "2   3     Spotify  Abhilash Ulahannan      2         1   \n",
       "3   4     Spotify     Michele LaBlanc      4        12   \n",
       "4   5     Spotify       Makara Bedell      5         7   \n",
       "\n",
       "                                              Review Vader Sentiment  \n",
       "0  Ich finde Spotify sehr gut. Die Lieder haben e...        Negative  \n",
       "1                  Fix the adaptive icon please ðŸ˜­        Positive  \n",
       "2  missing a lot of songs i like, not really a fa...        Positive  \n",
       "3  Overall great app. Love that I can have multip...        Positive  \n",
       "4  it's good and all, but ur recent update is tra...        Positive  "
      ]
     },
     "execution_count": 8,
     "metadata": {},
     "output_type": "execute_result"
    }
   ],
   "source": [
    "df.head()"
   ]
  },
  {
   "cell_type": "code",
   "execution_count": 9,
   "metadata": {},
   "outputs": [],
   "source": [
    "# Final Sentiment Tagged Dataset\n",
    "\n",
    "df.head()\n",
    "\n",
    "df.to_csv(\"Vader Sentiment PlayStore.csv\")"
   ]
  },
  {
   "cell_type": "markdown",
   "metadata": {},
   "source": [
    "# Sentiment Data as Training & Preprocessing"
   ]
  },
  {
   "cell_type": "code",
   "execution_count": 10,
   "metadata": {},
   "outputs": [],
   "source": [
    "# Splitting Independent and Dependent Variables\n",
    "text_data = df['Review']\n",
    "label_data = df['Vader Sentiment']"
   ]
  },
  {
   "cell_type": "code",
   "execution_count": 11,
   "metadata": {},
   "outputs": [],
   "source": [
    "# Converting list to Dataframes\n",
    "text_data = pd.DataFrame(text_data,columns=['Review'])\n",
    "label_data = pd.DataFrame(label_data,columns=['Vader Sentiment'])"
   ]
  },
  {
   "cell_type": "code",
   "execution_count": 12,
   "metadata": {},
   "outputs": [],
   "source": [
    "# Splitting the Data into Training and Test Sets\n",
    "Train_text, Test_text, Train_labels, Test_labels = train_test_split(text_data, label_data, test_size=0.2,shuffle=False)"
   ]
  },
  {
   "cell_type": "code",
   "execution_count": 13,
   "metadata": {},
   "outputs": [
    {
     "name": "stderr",
     "output_type": "stream",
     "text": [
      "C:\\ProgramData\\Anaconda3\\lib\\site-packages\\pandas\\core\\series.py:3896: SettingWithCopyWarning: \n",
      "A value is trying to be set on a copy of a slice from a DataFrame\n",
      "\n",
      "See the caveats in the documentation: http://pandas.pydata.org/pandas-docs/stable/indexing.html#indexing-view-versus-copy\n",
      "  self._update_inplace(result)\n"
     ]
    }
   ],
   "source": [
    "# Data Preprocessing: a.Dropping Nulls\n",
    "\n",
    "Train_text['Review'].dropna(inplace=True)\n",
    "Test_text['Review'].dropna(inplace=True)"
   ]
  },
  {
   "cell_type": "code",
   "execution_count": 14,
   "metadata": {},
   "outputs": [
    {
     "name": "stderr",
     "output_type": "stream",
     "text": [
      "C:\\ProgramData\\Anaconda3\\lib\\site-packages\\ipykernel_launcher.py:3: SettingWithCopyWarning: \n",
      "A value is trying to be set on a copy of a slice from a DataFrame.\n",
      "Try using .loc[row_indexer,col_indexer] = value instead\n",
      "\n",
      "See the caveats in the documentation: http://pandas.pydata.org/pandas-docs/stable/indexing.html#indexing-view-versus-copy\n",
      "  This is separate from the ipykernel package so we can avoid doing imports until\n",
      "C:\\ProgramData\\Anaconda3\\lib\\site-packages\\ipykernel_launcher.py:4: SettingWithCopyWarning: \n",
      "A value is trying to be set on a copy of a slice from a DataFrame.\n",
      "Try using .loc[row_indexer,col_indexer] = value instead\n",
      "\n",
      "See the caveats in the documentation: http://pandas.pydata.org/pandas-docs/stable/indexing.html#indexing-view-versus-copy\n",
      "  after removing the cwd from sys.path.\n"
     ]
    }
   ],
   "source": [
    "# Data Preprocessing: b.Converting Data to Lowercase\n",
    "\n",
    "Train_text['Review'] = [entry.lower() for entry in Train_text['Review']]\n",
    "Test_text['Review'] = [entry.lower() for entry in Test_text['Review']]"
   ]
  },
  {
   "cell_type": "code",
   "execution_count": 15,
   "metadata": {},
   "outputs": [
    {
     "name": "stderr",
     "output_type": "stream",
     "text": [
      "C:\\ProgramData\\Anaconda3\\lib\\site-packages\\ipykernel_launcher.py:3: SettingWithCopyWarning: \n",
      "A value is trying to be set on a copy of a slice from a DataFrame.\n",
      "Try using .loc[row_indexer,col_indexer] = value instead\n",
      "\n",
      "See the caveats in the documentation: http://pandas.pydata.org/pandas-docs/stable/indexing.html#indexing-view-versus-copy\n",
      "  This is separate from the ipykernel package so we can avoid doing imports until\n",
      "C:\\ProgramData\\Anaconda3\\lib\\site-packages\\ipykernel_launcher.py:4: SettingWithCopyWarning: \n",
      "A value is trying to be set on a copy of a slice from a DataFrame.\n",
      "Try using .loc[row_indexer,col_indexer] = value instead\n",
      "\n",
      "See the caveats in the documentation: http://pandas.pydata.org/pandas-docs/stable/indexing.html#indexing-view-versus-copy\n",
      "  after removing the cwd from sys.path.\n"
     ]
    }
   ],
   "source": [
    "# Data Preprocessing: c.Tokenizing Data\n",
    "\n",
    "Train_text['Review']= [word_tokenize(entry) for entry in Train_text['Review']]\n",
    "Test_text['Review']= [word_tokenize(entry) for entry in Test_text['Review']]"
   ]
  },
  {
   "cell_type": "code",
   "execution_count": 16,
   "metadata": {},
   "outputs": [],
   "source": [
    "# Data Preprocessing: d.Tagging Words to their Types\n",
    "\n",
    "tag_map = defaultdict(lambda : wn.NOUN)\n",
    "tag_map['J'] = wn.ADJ\n",
    "tag_map['V'] = wn.VERB\n",
    "tag_map['R'] = wn.ADV"
   ]
  },
  {
   "cell_type": "code",
   "execution_count": 17,
   "metadata": {},
   "outputs": [],
   "source": [
    "# Data Preprocessing: e.Lemmatizing Training Data and Removing Stopwords\n",
    "\n",
    "big_list = []\n",
    "for index,entry in enumerate(Train_text['Review']):\n",
    "    # Declaring Empty List to store the words that follow the rules for this step\n",
    "    Final_words = []\n",
    "    # Initializing WordNetLemmatizer()\n",
    "    word_Lemmatized = WordNetLemmatizer()\n",
    "    # pos_tag function below will provide the 'tag' i.e if the word is Noun(N) or Verb(V) or something else.\n",
    "    for word, tag in pos_tag(entry):\n",
    "        # Below condition is to check for Stop words and consider only alphabets\n",
    "        if word not in stopwords.words('english') and word.isalpha():\n",
    "            word_Final = word_Lemmatized.lemmatize(word,tag_map[tag[0]])\n",
    "            Final_words.append(word_Final)\n",
    "    big_list.append(Final_words)"
   ]
  },
  {
   "cell_type": "code",
   "execution_count": 18,
   "metadata": {},
   "outputs": [
    {
     "data": {
      "text/plain": [
       "0    ['ich', 'finde', 'spotify', 'sehr', 'gut', 'di...\n",
       "1                ['fix', 'adaptive', 'icon', 'please']\n",
       "2    ['miss', 'lot', 'song', 'like', 'really', 'fan...\n",
       "3    ['overall', 'great', 'app', 'love', 'multiple'...\n",
       "4    ['good', 'ur', 'recent', 'update', 'trash', 'b...\n",
       "dtype: object"
      ]
     },
     "execution_count": 18,
     "metadata": {},
     "output_type": "execute_result"
    }
   ],
   "source": [
    "# Bringing Training Data to Correct Format\n",
    "\n",
    "train_text = pd.Series(str(items) for items in big_list)\n",
    "train_text.head()"
   ]
  },
  {
   "cell_type": "code",
   "execution_count": 19,
   "metadata": {},
   "outputs": [],
   "source": [
    "# Data Preprocessing: e.Lemmatizing Test Data and Removing Stopwords\n",
    "\n",
    "big_list_1 = []\n",
    "for index,entry in enumerate(Test_text['Review']):\n",
    "    # Declaring Empty List to store the words that follow the rules for this step\n",
    "    Final_words = []\n",
    "    # Initializing WordNetLemmatizer()\n",
    "    word_Lemmatized = WordNetLemmatizer()\n",
    "    # pos_tag function below will provide the 'tag' i.e if the word is Noun(N) or Verb(V) or something else.\n",
    "    for word, tag in pos_tag(entry):\n",
    "        # Below condition is to check for Stop words and consider only alphabets\n",
    "        if word not in stopwords.words('english') and word.isalpha():\n",
    "            word_Final = word_Lemmatized.lemmatize(word,tag_map[tag[0]])\n",
    "            Final_words.append(word_Final)\n",
    "    big_list_1.append(Final_words)"
   ]
  },
  {
   "cell_type": "code",
   "execution_count": 20,
   "metadata": {},
   "outputs": [
    {
     "data": {
      "text/plain": [
       "0                ['great', 'music', 'listen', 'world']\n",
       "1    ['work', 'fine', 'shortly', 'late', 'update', ...\n",
       "2    ['listen', 'pandora', 'year', 'best', 'music',...\n",
       "3    ['great', 'somthing', 'u', 'want', 'listen', '...\n",
       "4    ['stop', 'every', 'time', 'minimize', 'go', 'a...\n",
       "dtype: object"
      ]
     },
     "execution_count": 20,
     "metadata": {},
     "output_type": "execute_result"
    }
   ],
   "source": [
    "# Bringing Test Data to Correct Format\n",
    "\n",
    "test_text = pd.Series(str(items) for items in big_list_1)\n",
    "test_text.head()"
   ]
  },
  {
   "cell_type": "code",
   "execution_count": 21,
   "metadata": {},
   "outputs": [],
   "source": [
    "# Generating A Total Corpus of Words\n",
    "\n",
    "all_texts = []\n",
    "for items in train_text:\n",
    "    all_texts.append(items)\n",
    "\n",
    "for items in test_text:\n",
    "    all_texts.append(items)"
   ]
  },
  {
   "cell_type": "code",
   "execution_count": 22,
   "metadata": {},
   "outputs": [
    {
     "name": "stderr",
     "output_type": "stream",
     "text": [
      "C:\\ProgramData\\Anaconda3\\lib\\site-packages\\sklearn\\preprocessing\\label.py:235: DataConversionWarning: A column-vector y was passed when a 1d array was expected. Please change the shape of y to (n_samples, ), for example using ravel().\n",
      "  y = column_or_1d(y, warn=True)\n"
     ]
    }
   ],
   "source": [
    "# Label Encoding\n",
    "\n",
    "Encoder = LabelEncoder()\n",
    "train_labels = Encoder.fit_transform(Train_labels)\n",
    "test_labels = Encoder.fit_transform(Test_labels)"
   ]
  },
  {
   "cell_type": "markdown",
   "metadata": {},
   "source": [
    "# Selecting Features"
   ]
  },
  {
   "cell_type": "markdown",
   "metadata": {},
   "source": [
    "### Count Vectors as Features"
   ]
  },
  {
   "cell_type": "code",
   "execution_count": 23,
   "metadata": {},
   "outputs": [],
   "source": [
    "# create a count vectorizer object \n",
    "count_vect = CountVectorizer(analyzer='word')\n",
    "count_vect.fit(all_texts)\n",
    "\n",
    "# transform the training and validation data using count vectorizer object\n",
    "xtrain_count =  count_vect.transform(train_text)\n",
    "xvalid_count =  count_vect.transform(test_text)"
   ]
  },
  {
   "cell_type": "markdown",
   "metadata": {},
   "source": [
    "### Word Level TF-IDF as Features"
   ]
  },
  {
   "cell_type": "code",
   "execution_count": 24,
   "metadata": {},
   "outputs": [],
   "source": [
    "# word level tf-idf\n",
    "tfidf_vect = TfidfVectorizer(analyzer='word',max_features=5000)\n",
    "tfidf_vect.fit(all_texts)\n",
    "xtrain_tfidf =  tfidf_vect.transform(train_text)\n",
    "xvalid_tfidf =  tfidf_vect.transform(test_text)"
   ]
  },
  {
   "cell_type": "markdown",
   "metadata": {},
   "source": [
    "### N-Gram Level TF-IDF as Features"
   ]
  },
  {
   "cell_type": "code",
   "execution_count": 25,
   "metadata": {},
   "outputs": [],
   "source": [
    "# ngram level tf-idf \n",
    "tfidf_vect_ngram = TfidfVectorizer(analyzer='word', ngram_range=(1,3), max_features=5000)\n",
    "tfidf_vect_ngram.fit(all_texts)\n",
    "xtrain_tfidf_ngram =  tfidf_vect_ngram.transform(train_text)\n",
    "xvalid_tfidf_ngram =  tfidf_vect_ngram.transform(test_text)"
   ]
  },
  {
   "cell_type": "markdown",
   "metadata": {},
   "source": [
    "# Creating a Function to Deploy Models"
   ]
  },
  {
   "cell_type": "code",
   "execution_count": 26,
   "metadata": {},
   "outputs": [],
   "source": [
    "def train_model(classifier, feature_vector_train, label, feature_vector_valid, is_neural_net=False):\n",
    "    # fit the training dataset on the classifier\n",
    "    classifier.fit(feature_vector_train, label)\n",
    "    \n",
    "    # predict the labels on validation dataset\n",
    "    predictions = classifier.predict(feature_vector_valid)\n",
    "    \n",
    "    if is_neural_net:\n",
    "        predictions = predictions.argmax(axis=-1)\n",
    "    \n",
    "    return metrics.accuracy_score(predictions, test_labels)"
   ]
  },
  {
   "cell_type": "markdown",
   "metadata": {},
   "source": [
    "# Deploying Models"
   ]
  },
  {
   "cell_type": "markdown",
   "metadata": {},
   "source": [
    "# Naive Bayes"
   ]
  },
  {
   "cell_type": "code",
   "execution_count": 27,
   "metadata": {},
   "outputs": [
    {
     "name": "stdout",
     "output_type": "stream",
     "text": [
      "NB, Count Vectors:  0.7284953768562623\n",
      "NB, WordLevel TF-IDF:  0.7175679462034183\n",
      "NB, N-Gram Vectors:  0.7270944242084617\n"
     ]
    }
   ],
   "source": [
    "# Naive Bayes on Count Vectors\n",
    "accuracy_count_nb = train_model(naive_bayes.MultinomialNB(), xtrain_count, train_labels, xvalid_count)\n",
    "print (\"NB, Count Vectors: \", accuracy_count_nb)\n",
    "\n",
    "# Naive Bayes on Word Level TF IDF Vectors\n",
    "accuracy_word_nb = train_model(naive_bayes.MultinomialNB(), xtrain_tfidf, train_labels, xvalid_tfidf)\n",
    "print (\"NB, WordLevel TF-IDF: \", accuracy_word_nb)\n",
    "\n",
    "# Naive Bayes on Ngram Level TF IDF Vectors\n",
    "accuracy_ngram_nb = train_model(naive_bayes.MultinomialNB(), xtrain_tfidf_ngram, train_labels, xvalid_tfidf_ngram)\n",
    "print (\"NB, N-Gram Vectors: \", accuracy_ngram_nb)"
   ]
  },
  {
   "cell_type": "markdown",
   "metadata": {},
   "source": [
    "# RF Classifier"
   ]
  },
  {
   "cell_type": "code",
   "execution_count": 28,
   "metadata": {},
   "outputs": [
    {
     "name": "stdout",
     "output_type": "stream",
     "text": [
      "RF, Count Vectors:  0.7960212944802466\n",
      "RF, WordLevel TF-IDF Vectors:  0.794620341832446\n",
      "RF, N-Gram Vectors:  0.8041468198374895\n"
     ]
    }
   ],
   "source": [
    "#Random Forest on Count Vectors\n",
    "accuracy_count_rf = train_model(RandomForestClassifier(n_estimators=100),xtrain_count,train_labels,xvalid_count)\n",
    "print(\"RF, Count Vectors: \",accuracy_count_rf)\n",
    "\n",
    "#Random Forest on Word Level TF IDF Vectors\n",
    "accuracy_word_rf = train_model(RandomForestClassifier(n_estimators=100),xtrain_tfidf,train_labels,xvalid_tfidf)\n",
    "print(\"RF, WordLevel TF-IDF Vectors: \",accuracy_word_rf)\n",
    "\n",
    "#Random Forest Ngram Level TF IDF Vectors\n",
    "accuracy_ngram_rf = train_model(RandomForestClassifier(n_estimators=100),xtrain_tfidf_ngram,train_labels,xvalid_tfidf_ngram)\n",
    "print(\"RF, N-Gram Vectors: \",accuracy_ngram_rf)"
   ]
  },
  {
   "cell_type": "markdown",
   "metadata": {},
   "source": [
    "# Logistic Regression"
   ]
  },
  {
   "cell_type": "code",
   "execution_count": 29,
   "metadata": {},
   "outputs": [
    {
     "name": "stderr",
     "output_type": "stream",
     "text": [
      "C:\\ProgramData\\Anaconda3\\lib\\site-packages\\sklearn\\linear_model\\logistic.py:433: FutureWarning: Default solver will be changed to 'lbfgs' in 0.22. Specify a solver to silence this warning.\n",
      "  FutureWarning)\n",
      "C:\\ProgramData\\Anaconda3\\lib\\site-packages\\sklearn\\linear_model\\logistic.py:460: FutureWarning: Default multi_class will be changed to 'auto' in 0.22. Specify the multi_class option to silence this warning.\n",
      "  \"this warning.\", FutureWarning)\n"
     ]
    },
    {
     "name": "stdout",
     "output_type": "stream",
     "text": [
      "LR, Count Vectors:  0.8327262538526198\n",
      "LR, WordLevel TF-IDF:  0.8147940599607734\n",
      "LR, N-Gram Vectors:  0.8097506304286916\n"
     ]
    }
   ],
   "source": [
    "# Linear Classifier on Count Vectors\n",
    "accuracy_count_lc = train_model(linear_model.LogisticRegression(), xtrain_count, train_labels, xvalid_count)\n",
    "print (\"LR, Count Vectors: \", accuracy_count_lc)\n",
    "\n",
    "# Linear Classifier on Word Level TF IDF Vectors\n",
    "accuracy_word_lc = train_model(linear_model.LogisticRegression(), xtrain_tfidf, train_labels, xvalid_tfidf)\n",
    "print (\"LR, WordLevel TF-IDF: \", accuracy_word_lc)\n",
    "\n",
    "# Linear Classifier on Ngram Level TF IDF Vectorstrain_labels\n",
    "accuracy_ngram_lc = train_model(linear_model.LogisticRegression(), xtrain_tfidf_ngram, train_labels, xvalid_tfidf_ngram)\n",
    "print (\"LR, N-Gram Vectors: \", accuracy_ngram_lc)"
   ]
  },
  {
   "cell_type": "markdown",
   "metadata": {},
   "source": [
    "# SVM"
   ]
  },
  {
   "cell_type": "code",
   "execution_count": 30,
   "metadata": {},
   "outputs": [
    {
     "name": "stdout",
     "output_type": "stream",
     "text": [
      "SVM,Count Vectors:  0.8257214906136172\n",
      "SVM, Word Level TF-IDF Vectors:  0.8318856822639394\n",
      "SVM, N-Gram Vectors:  0.8220790137293359\n"
     ]
    }
   ],
   "source": [
    "# SVM on Count Vectors Linear Kernel\n",
    "accuracy_count_svm = train_model(svm.SVC(C=1.0, kernel='linear', degree=3, gamma='auto'), xtrain_count, train_labels, xvalid_count)\n",
    "print (\"SVM,Count Vectors: \", accuracy_count_svm)\n",
    "\n",
    "# SVM on Word Level TF-IDF Vectors Linear Kernel\n",
    "accuracy_word_svm = train_model(svm.SVC(C=1.0, kernel='linear', degree=3, gamma='auto'), xtrain_tfidf, train_labels, xvalid_tfidf)\n",
    "print (\"SVM, Word Level TF-IDF Vectors: \", accuracy_word_svm)\n",
    "\n",
    "# SVM on Ngram Level TF IDF Vectors  Linear Kernel\n",
    "accuracy_ngram_svm = train_model(svm.SVC(C=1.0, kernel='linear', degree=3, gamma='auto'), xtrain_tfidf_ngram, train_labels, xvalid_tfidf_ngram)\n",
    "print (\"SVM, N-Gram Vectors: \", accuracy_ngram_svm)\n"
   ]
  },
  {
   "cell_type": "markdown",
   "metadata": {},
   "source": [
    "# Bagging"
   ]
  },
  {
   "cell_type": "code",
   "execution_count": 31,
   "metadata": {},
   "outputs": [
    {
     "name": "stderr",
     "output_type": "stream",
     "text": [
      "C:\\ProgramData\\Anaconda3\\lib\\site-packages\\sklearn\\ensemble\\forest.py:246: FutureWarning: The default value of n_estimators will change from 10 in version 0.20 to 100 in 0.22.\n",
      "  \"10 in version 0.20 to 100 in 0.22.\", FutureWarning)\n"
     ]
    },
    {
     "name": "stdout",
     "output_type": "stream",
     "text": [
      "RF, Count Vectors:  0.7640795741103951\n"
     ]
    },
    {
     "name": "stderr",
     "output_type": "stream",
     "text": [
      "C:\\ProgramData\\Anaconda3\\lib\\site-packages\\sklearn\\ensemble\\forest.py:246: FutureWarning: The default value of n_estimators will change from 10 in version 0.20 to 100 in 0.22.\n",
      "  \"10 in version 0.20 to 100 in 0.22.\", FutureWarning)\n"
     ]
    },
    {
     "name": "stdout",
     "output_type": "stream",
     "text": [
      "RF, WordLevel TF-IDF:  0.7663210983468759\n"
     ]
    },
    {
     "name": "stderr",
     "output_type": "stream",
     "text": [
      "C:\\ProgramData\\Anaconda3\\lib\\site-packages\\sklearn\\ensemble\\forest.py:246: FutureWarning: The default value of n_estimators will change from 10 in version 0.20 to 100 in 0.22.\n",
      "  \"10 in version 0.20 to 100 in 0.22.\", FutureWarning)\n"
     ]
    },
    {
     "name": "stdout",
     "output_type": "stream",
     "text": [
      "RF, Ngram Vectors:  0.7677220509946764\n"
     ]
    }
   ],
   "source": [
    "# RF on Count Vectors\n",
    "accuracy_count_bg = train_model(ensemble.RandomForestClassifier(), xtrain_count, train_labels, xvalid_count)\n",
    "print (\"RF, Count Vectors: \", accuracy_count_bg)\n",
    "\n",
    "# RF on Word Level TF IDF Vectors\n",
    "accuracy_word_bg = train_model(ensemble.RandomForestClassifier(), xtrain_tfidf, train_labels, xvalid_tfidf)\n",
    "print (\"RF, WordLevel TF-IDF: \", accuracy_word_bg)\n",
    "\n",
    "# RF on Ngram Vectors\n",
    "accuracy_ngram_bg = train_model(ensemble.RandomForestClassifier(), xtrain_tfidf_ngram, train_labels, xvalid_tfidf_ngram)\n",
    "print (\"RF, Ngram Vectors: \", accuracy_ngram_bg)"
   ]
  },
  {
   "cell_type": "markdown",
   "metadata": {},
   "source": [
    "# Boosting"
   ]
  },
  {
   "cell_type": "code",
   "execution_count": 32,
   "metadata": {},
   "outputs": [
    {
     "name": "stdout",
     "output_type": "stream",
     "text": [
      "Xgb, Count Vectors:  0.7752871952927991\n",
      "Xgb, WordLevel TF-IDF:  0.7867750070047632\n",
      "Xgb, Ngram Level Vectors:  0.7878957691230036\n"
     ]
    }
   ],
   "source": [
    "# Extereme Gradient Boosting on Count Vectors\n",
    "accuracy_count_bo = train_model(xgboost.XGBClassifier(), xtrain_count.tocsc(), train_labels, xvalid_count.tocsc())\n",
    "print (\"Xgb, Count Vectors: \", accuracy_count_bo)\n",
    "\n",
    "# Extereme Gradient Boosting on Word Level TF IDF Vectors\n",
    "accuracy_word_bo = train_model(xgboost.XGBClassifier(), xtrain_tfidf.tocsc(), train_labels, xvalid_tfidf.tocsc())\n",
    "print (\"Xgb, WordLevel TF-IDF: \", accuracy_word_bo)\n",
    "\n",
    "# Extereme Gradient Boosting on NGRAM Level TF IDF Vectors\n",
    "accuracy_ngram_bo = train_model(xgboost.XGBClassifier(), xtrain_tfidf_ngram.tocsc(), train_labels, xvalid_tfidf_ngram.tocsc())\n",
    "print (\"Xgb, Ngram Level Vectors: \", accuracy_ngram_bo)"
   ]
  },
  {
   "cell_type": "markdown",
   "metadata": {},
   "source": [
    "# Summary"
   ]
  },
  {
   "cell_type": "markdown",
   "metadata": {},
   "source": [
    "## Using Count Vectors"
   ]
  },
  {
   "cell_type": "code",
   "execution_count": 33,
   "metadata": {},
   "outputs": [
    {
     "name": "stdout",
     "output_type": "stream",
     "text": [
      "NB, Count Vectors:  72.85 %\n",
      "\n",
      "Random Forest Classifier\n",
      "RF, Count Vectors:  79.6 %\n",
      "\n",
      "Linear Classifier\n",
      "LR, Count Vectors:  83.27 %\n",
      "\n",
      "SVM Classifier\n",
      "SVM,Count Vectors:  82.57 %\n",
      "\n",
      "Bagging Classifier\n",
      "RF, Count Vectors:  76.41 %\n",
      "\n",
      "Boosting Classifier\n",
      "Xgb, Count Vectors:  77.53 %\n",
      "\n"
     ]
    }
   ],
   "source": [
    "# print('Naive Bayes Classifier')\n",
    "print (\"NB, Count Vectors: \", round(accuracy_count_nb*100,2),\"%\")\n",
    "print(\"\")\n",
    "\n",
    "print('Random Forest Classifier')\n",
    "print(\"RF, Count Vectors: \",round(accuracy_count_rf*100,2),\"%\")\n",
    "print(\"\")\n",
    "\n",
    "print('Linear Classifier')\n",
    "print (\"LR, Count Vectors: \", round(accuracy_count_lc*100,2),\"%\")\n",
    "print(\"\")\n",
    "\n",
    "print('SVM Classifier')\n",
    "print (\"SVM,Count Vectors: \", round(accuracy_count_svm*100,2),\"%\")\n",
    "print(\"\")\n",
    "\n",
    "print('Bagging Classifier')\n",
    "print (\"RF, Count Vectors: \", round(accuracy_count_bg*100,2),\"%\")\n",
    "print(\"\")\n",
    "\n",
    "print('Boosting Classifier')\n",
    "print (\"Xgb, Count Vectors: \", round(accuracy_count_bo*100,2),\"%\")\n",
    "print(\"\")"
   ]
  },
  {
   "cell_type": "markdown",
   "metadata": {},
   "source": [
    "## Using Word Level TF-IDF"
   ]
  },
  {
   "cell_type": "code",
   "execution_count": 34,
   "metadata": {},
   "outputs": [
    {
     "name": "stdout",
     "output_type": "stream",
     "text": [
      "Naive Bayes Classifier\n",
      "NB, WordLevel TF-IDF:  71.76 %\n",
      "\n",
      "Random Forest Classifier\n",
      "RF, WordLevel TF-IDF Vectors:  79.46 %\n",
      "\n",
      "Linear Classifier\n",
      "LR, WordLevel TF-IDF:  81.48 %\n",
      "\n",
      "SVM Classifier\n",
      "SVM, Word Level TF-IDF Vectors:  83.19 %\n",
      "\n",
      "Bagging Classifier\n",
      "RF, WordLevel TF-IDF:  76.63 %\n",
      "\n",
      "Boosting Classifier\n",
      "Xgb, WordLevel TF-IDF:  78.68 %\n",
      "\n"
     ]
    }
   ],
   "source": [
    "print('Naive Bayes Classifier')\n",
    "print (\"NB, WordLevel TF-IDF: \", round(accuracy_word_nb*100,2),\"%\")\n",
    "print(\"\")\n",
    "\n",
    "print('Random Forest Classifier')\n",
    "print(\"RF, WordLevel TF-IDF Vectors: \",round(accuracy_word_rf*100,2),\"%\")\n",
    "print(\"\")\n",
    "\n",
    "print('Linear Classifier')\n",
    "print (\"LR, WordLevel TF-IDF: \", round(accuracy_word_lc*100,2),\"%\")\n",
    "print(\"\")\n",
    "\n",
    "print('SVM Classifier')\n",
    "print (\"SVM, Word Level TF-IDF Vectors: \", round(accuracy_word_svm*100,2),\"%\")\n",
    "print(\"\")\n",
    "\n",
    "print('Bagging Classifier')\n",
    "print (\"RF, WordLevel TF-IDF: \", round(accuracy_word_bg*100,2),\"%\")\n",
    "print(\"\")\n",
    "\n",
    "print('Boosting Classifier')\n",
    "print (\"Xgb, WordLevel TF-IDF: \", round(accuracy_word_bo*100,2),\"%\")\n",
    "print(\"\")"
   ]
  },
  {
   "cell_type": "markdown",
   "metadata": {},
   "source": [
    "## Using N-Gram Vectors"
   ]
  },
  {
   "cell_type": "code",
   "execution_count": 35,
   "metadata": {},
   "outputs": [
    {
     "name": "stdout",
     "output_type": "stream",
     "text": [
      "Naive Bayes Classifier\n",
      "NB, Ngram Vectors:  72.71 %\n",
      "\n",
      "Random Forest Classifier\n",
      "RF, Ngram Vectors:  80.41 %\n",
      "\n",
      "Linear Classifier\n",
      "LR, Ngram Vectors:  80.98 %\n",
      "\n",
      "SVM Classifier\n",
      "SVM, Ngram Vectors:  82.21 %\n",
      "\n",
      "Bagging Classifier\n",
      "RF, Ngram Vectors:  76.77 %\n",
      "\n",
      "Boosting Classifier\n",
      "Xgb, Ngram Vectors:  78.79 %\n",
      "\n"
     ]
    }
   ],
   "source": [
    "print('Naive Bayes Classifier')\n",
    "print (\"NB, Ngram Vectors: \", round(accuracy_ngram_nb*100,2),\"%\")\n",
    "print(\"\")\n",
    "\n",
    "print('Random Forest Classifier')\n",
    "print(\"RF, Ngram Vectors: \",round(accuracy_ngram_rf*100,2),\"%\")\n",
    "print(\"\")\n",
    "\n",
    "print('Linear Classifier')\n",
    "print (\"LR, Ngram Vectors: \", round(accuracy_ngram_lc*100,2),\"%\")\n",
    "print(\"\")\n",
    "\n",
    "print('SVM Classifier')\n",
    "print (\"SVM, Ngram Vectors: \", round(accuracy_ngram_svm*100,2),\"%\")\n",
    "print(\"\")\n",
    "\n",
    "print('Bagging Classifier')\n",
    "print (\"RF, Ngram Vectors: \", round(accuracy_ngram_bg*100,2),\"%\")\n",
    "print(\"\")\n",
    "\n",
    "print('Boosting Classifier')\n",
    "print (\"Xgb, Ngram Vectors: \", round(accuracy_ngram_bo*100,2),\"%\")\n",
    "print(\"\")"
   ]
  },
  {
   "cell_type": "markdown",
   "metadata": {},
   "source": [
    "# Hyperparameter Tuning the SVM"
   ]
  },
  {
   "cell_type": "code",
   "execution_count": 36,
   "metadata": {},
   "outputs": [],
   "source": [
    "from sklearn import svm\n",
    "from sklearn.model_selection import GridSearchCV\n",
    "def svc_param_selection(X, y, nfolds):\n",
    "    Cs = [0.001, 0.01, 0.1, 1, 10]\n",
    "    gammas = [0.001, 0.01, 0.1, 1]\n",
    "    param_grid = {'C': Cs, 'gamma' : gammas}\n",
    "    grid_search = GridSearchCV(svm.SVC(kernel='linear'), param_grid, cv=nfolds)\n",
    "    grid_search.fit(X, y)\n",
    "    grid_search.best_params_\n",
    "    return grid_search.best_params_"
   ]
  },
  {
   "cell_type": "code",
   "execution_count": 37,
   "metadata": {},
   "outputs": [
    {
     "data": {
      "text/plain": [
       "{'C': 1, 'gamma': 0.001}"
      ]
     },
     "execution_count": 37,
     "metadata": {},
     "output_type": "execute_result"
    }
   ],
   "source": [
    "svc_param_selection(xtrain_tfidf,train_labels,5)"
   ]
  },
  {
   "cell_type": "code",
   "execution_count": 38,
   "metadata": {},
   "outputs": [
    {
     "name": "stdout",
     "output_type": "stream",
     "text": [
      "SVM, Word Level TF-IDF Vectors:  83.19 %\n"
     ]
    }
   ],
   "source": [
    "# SVM on Word Level TF-IDF Vectors Linear Kernel\n",
    "accuracy_word_svm = train_model(svm.SVC(C=1.0, kernel='linear', degree=3, gamma=0.001), xtrain_tfidf, train_labels, xvalid_tfidf)\n",
    "print (\"SVM, Word Level TF-IDF Vectors: \", round(accuracy_word_svm*100,2),\"%\")"
   ]
  },
  {
   "cell_type": "markdown",
   "metadata": {},
   "source": [
    "# Confusion Matrix"
   ]
  },
  {
   "cell_type": "code",
   "execution_count": 39,
   "metadata": {},
   "outputs": [],
   "source": [
    "# Plotting the confusion Matrix Using Logistic Regression on Word Level TF-IDF\n",
    "\n",
    "import matplotlib as mpl\n",
    "import numpy as np\n",
    "\n",
    "\n",
    "def plot_cm(X, y, clf, title):\n",
    "\n",
    "    cm = metrics.confusion_matrix(y, clf.predict(X))\n",
    "\n",
    "    np.set_printoptions(suppress=True)\n",
    "    mpl.rc(\"figure\", figsize=(8, 4))\n",
    "\n",
    "    hm = sns.heatmap(cm, \n",
    "            cbar=False,\n",
    "            annot=True, \n",
    "            square=True,\n",
    "            fmt='d',\n",
    "            yticklabels=['negative','neutral','positive'],\n",
    "            xticklabels=['negative','neutral','positive'],\n",
    "            cmap='Blues'\n",
    "            )\n",
    "    plt.title(title)\n",
    "    plt.ylabel('Actual class')\n",
    "    plt.xlabel('Predicted class')\n",
    "    plt.tight_layout()\n",
    "    plt.show()"
   ]
  },
  {
   "cell_type": "code",
   "execution_count": 40,
   "metadata": {},
   "outputs": [
    {
     "data": {
      "text/plain": [
       "<Figure size 800x400 with 1 Axes>"
      ]
     },
     "metadata": {},
     "output_type": "display_data"
    }
   ],
   "source": [
    "import seaborn as sns\n",
    "import matplotlib.pyplot as plt\n",
    "\n",
    "claf = svm.SVC(C=1.0, kernel='linear', degree=3, gamma=0.001)\n",
    "claf.fit(xtrain_tfidf, train_labels)\n",
    "plot_cm(xtrain_tfidf, train_labels, claf, 'Training Word Level - TfidfVectorizer on Support Vector Machine')"
   ]
  },
  {
   "cell_type": "code",
   "execution_count": 41,
   "metadata": {},
   "outputs": [
    {
     "data": {
      "image/png": "[encoded data removed]",
      "text/plain": [
       "<Figure size 576x288 with 1 Axes>"
      ]
     },
     "metadata": {
      "needs_background": "light"
     },
     "output_type": "display_data"
    }
   ],
   "source": [
    "plot_cm(xvalid_tfidf,test_labels, claf, 'Testing Word Level - TfidfVectorizer on Support Vector Machine')"
   ]
  }
 ],
 "metadata": {
  "kernelspec": {
   "display_name": "Python 3",
   "language": "python",
   "name": "python3"
  },
  "language_info": {
   "codemirror_mode": {
    "name": "ipython",
    "version": 3
   },
   "file_extension": ".py",
   "mimetype": "text/x-python",
   "name": "python",
   "nbconvert_exporter": "python",
   "pygments_lexer": "ipython3",
   "version": "3.7.1"
  }
 },
 "nbformat": 4,
 "nbformat_minor": 2
}
